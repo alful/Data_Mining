{
  "nbformat": 4,
  "nbformat_minor": 0,
  "metadata": {
    "colab": {
      "name": "decisiontree.ipynb",
      "provenance": [],
      "collapsed_sections": [],
      "authorship_tag": "ABX9TyORzA4kmVgI9MgINXgmVfQH",
      "include_colab_link": true
    },
    "kernelspec": {
      "name": "python3",
      "display_name": "Python 3"
    },
    "language_info": {
      "name": "python"
    }
  },
  "cells": [
    {
      "cell_type": "markdown",
      "metadata": {
        "id": "view-in-github",
        "colab_type": "text"
      },
      "source": [
        "<a href=\"https://colab.research.google.com/github/alful/Data_Mining/blob/main/DecisionTree/decisiontree.ipynb\" target=\"_parent\"><img src=\"https://colab.research.google.com/assets/colab-badge.svg\" alt=\"Open In Colab\"/></a>"
      ]
    },
    {
      "cell_type": "code",
      "metadata": {
        "id": "sE8KQ-4KBFAJ"
      },
      "source": [
        "import numpy as np\n",
        "import pandas as pd\n",
        "from sklearn import tree"
      ],
      "execution_count": 380,
      "outputs": []
    },
    {
      "cell_type": "code",
      "metadata": {
        "id": "vwdRev-PBH39"
      },
      "source": [
        "Diabetes = pd.read_csv('diabetes_zero.csv', delimiter=',', header=0)"
      ],
      "execution_count": 381,
      "outputs": []
    },
    {
      "cell_type": "code",
      "metadata": {
        "colab": {
          "base_uri": "https://localhost:8080/",
          "height": 195
        },
        "id": "U-yE9Gp3EfVG",
        "outputId": "c3effb4e-6ae9-4014-b5f8-4437ae28ede0"
      },
      "source": [
        "Diabetes.head()"
      ],
      "execution_count": 382,
      "outputs": [
        {
          "output_type": "execute_result",
          "data": {
            "text/html": [
              "<div>\n",
              "<style scoped>\n",
              "    .dataframe tbody tr th:only-of-type {\n",
              "        vertical-align: middle;\n",
              "    }\n",
              "\n",
              "    .dataframe tbody tr th {\n",
              "        vertical-align: top;\n",
              "    }\n",
              "\n",
              "    .dataframe thead th {\n",
              "        text-align: right;\n",
              "    }\n",
              "</style>\n",
              "<table border=\"1\" class=\"dataframe\">\n",
              "  <thead>\n",
              "    <tr style=\"text-align: right;\">\n",
              "      <th></th>\n",
              "      <th>Pregnancies</th>\n",
              "      <th>Glucose</th>\n",
              "      <th>BloodPressure</th>\n",
              "      <th>SkinThickness</th>\n",
              "      <th>Insulin</th>\n",
              "      <th>Age</th>\n",
              "      <th>Outcome</th>\n",
              "    </tr>\n",
              "  </thead>\n",
              "  <tbody>\n",
              "    <tr>\n",
              "      <th>0</th>\n",
              "      <td>6</td>\n",
              "      <td>148</td>\n",
              "      <td>72</td>\n",
              "      <td>35</td>\n",
              "      <td>0</td>\n",
              "      <td>50</td>\n",
              "      <td>1</td>\n",
              "    </tr>\n",
              "    <tr>\n",
              "      <th>1</th>\n",
              "      <td>1</td>\n",
              "      <td>85</td>\n",
              "      <td>66</td>\n",
              "      <td>29</td>\n",
              "      <td>0</td>\n",
              "      <td>31</td>\n",
              "      <td>0</td>\n",
              "    </tr>\n",
              "    <tr>\n",
              "      <th>2</th>\n",
              "      <td>8</td>\n",
              "      <td>183</td>\n",
              "      <td>64</td>\n",
              "      <td>0</td>\n",
              "      <td>0</td>\n",
              "      <td>32</td>\n",
              "      <td>1</td>\n",
              "    </tr>\n",
              "    <tr>\n",
              "      <th>3</th>\n",
              "      <td>1</td>\n",
              "      <td>89</td>\n",
              "      <td>66</td>\n",
              "      <td>23</td>\n",
              "      <td>94</td>\n",
              "      <td>21</td>\n",
              "      <td>0</td>\n",
              "    </tr>\n",
              "    <tr>\n",
              "      <th>4</th>\n",
              "      <td>0</td>\n",
              "      <td>137</td>\n",
              "      <td>40</td>\n",
              "      <td>35</td>\n",
              "      <td>168</td>\n",
              "      <td>33</td>\n",
              "      <td>1</td>\n",
              "    </tr>\n",
              "  </tbody>\n",
              "</table>\n",
              "</div>"
            ],
            "text/plain": [
              "   Pregnancies  Glucose  BloodPressure  SkinThickness  Insulin  Age  Outcome\n",
              "0            6      148             72             35        0   50        1\n",
              "1            1       85             66             29        0   31        0\n",
              "2            8      183             64              0        0   32        1\n",
              "3            1       89             66             23       94   21        0\n",
              "4            0      137             40             35      168   33        1"
            ]
          },
          "metadata": {
            "tags": []
          },
          "execution_count": 382
        }
      ]
    },
    {
      "cell_type": "code",
      "metadata": {
        "colab": {
          "base_uri": "https://localhost:8080/"
        },
        "id": "wJlqIxdODuqj",
        "outputId": "ed536605-f93f-4cbb-820d-c6a67d02a609"
      },
      "source": [
        "print(Diabetes)"
      ],
      "execution_count": 383,
      "outputs": [
        {
          "output_type": "stream",
          "text": [
            "     Pregnancies  Glucose  BloodPressure  SkinThickness  Insulin  Age  Outcome\n",
            "0              6      148             72             35        0   50        1\n",
            "1              1       85             66             29        0   31        0\n",
            "2              8      183             64              0        0   32        1\n",
            "3              1       89             66             23       94   21        0\n",
            "4              0      137             40             35      168   33        1\n",
            "..           ...      ...            ...            ...      ...  ...      ...\n",
            "763           10      101             76             48      180   63        0\n",
            "764            2      122             70             27        0   27        0\n",
            "765            5      121             72             23      112   30        0\n",
            "766            1      126             60              0        0   47        1\n",
            "767            1       93             70             31        0   23        0\n",
            "\n",
            "[768 rows x 7 columns]\n"
          ],
          "name": "stdout"
        }
      ]
    },
    {
      "cell_type": "code",
      "metadata": {
        "id": "-MpfYUgjFOAx"
      },
      "source": [
        "Diabetes= Diabetes.drop(labels=\"Pregnancies\",axis=1)"
      ],
      "execution_count": 384,
      "outputs": []
    },
    {
      "cell_type": "code",
      "metadata": {
        "colab": {
          "base_uri": "https://localhost:8080/"
        },
        "id": "o7h2sAEMFYEU",
        "outputId": "7bfb50b2-493f-4110-b1b9-375c05d7c862"
      },
      "source": [
        "print(Diabetes)"
      ],
      "execution_count": 385,
      "outputs": [
        {
          "output_type": "stream",
          "text": [
            "     Glucose  BloodPressure  SkinThickness  Insulin  Age  Outcome\n",
            "0        148             72             35        0   50        1\n",
            "1         85             66             29        0   31        0\n",
            "2        183             64              0        0   32        1\n",
            "3         89             66             23       94   21        0\n",
            "4        137             40             35      168   33        1\n",
            "..       ...            ...            ...      ...  ...      ...\n",
            "763      101             76             48      180   63        0\n",
            "764      122             70             27        0   27        0\n",
            "765      121             72             23      112   30        0\n",
            "766      126             60              0        0   47        1\n",
            "767       93             70             31        0   23        0\n",
            "\n",
            "[768 rows x 6 columns]\n"
          ],
          "name": "stdout"
        }
      ]
    },
    {
      "cell_type": "code",
      "metadata": {
        "id": "L8afcqX4FmVp"
      },
      "source": [
        "Diabetes = Diabetes.to_numpy()"
      ],
      "execution_count": 386,
      "outputs": []
    },
    {
      "cell_type": "code",
      "metadata": {
        "colab": {
          "base_uri": "https://localhost:8080/"
        },
        "id": "qsmL7wN5FqBr",
        "outputId": "5f8074e8-5660-4026-8908-1a8fdfd3d185"
      },
      "source": [
        "print(Diabetes)"
      ],
      "execution_count": 387,
      "outputs": [
        {
          "output_type": "stream",
          "text": [
            "[[148  72  35   0  50   1]\n",
            " [ 85  66  29   0  31   0]\n",
            " [183  64   0   0  32   1]\n",
            " ...\n",
            " [121  72  23 112  30   0]\n",
            " [126  60   0   0  47   1]\n",
            " [ 93  70  31   0  23   0]]\n"
          ],
          "name": "stdout"
        }
      ]
    },
    {
      "cell_type": "code",
      "metadata": {
        "id": "mL3EmUYtFuq5"
      },
      "source": [
        "dataTraining = np.concatenate((Diabetes[0:330, :], Diabetes[380:710, :]), axis=0)\n",
        "dataTesting = np.concatenate((Diabetes[330:380, :], Diabetes[710:760, :]), axis=0)"
      ],
      "execution_count": 388,
      "outputs": []
    },
    {
      "cell_type": "code",
      "metadata": {
        "colab": {
          "base_uri": "https://localhost:8080/"
        },
        "id": "Zowc13vEGXLA",
        "outputId": "1d7ab5b1-ca40-4bbc-c9fa-952f332d4729"
      },
      "source": [
        "print(dataTraining)\n",
        "len(dataTraining)"
      ],
      "execution_count": 389,
      "outputs": [
        {
          "output_type": "stream",
          "text": [
            "[[148  72  35   0  50   1]\n",
            " [ 85  66  29   0  31   0]\n",
            " [183  64   0   0  32   1]\n",
            " ...\n",
            " [127  46  21 335  22   0]\n",
            " [164  78   0   0  45   1]\n",
            " [ 93  64  32 160  23   1]]\n"
          ],
          "name": "stdout"
        },
        {
          "output_type": "execute_result",
          "data": {
            "text/plain": [
              "660"
            ]
          },
          "metadata": {
            "tags": []
          },
          "execution_count": 389
        }
      ]
    },
    {
      "cell_type": "code",
      "metadata": {
        "colab": {
          "base_uri": "https://localhost:8080/"
        },
        "id": "Q0b0tfDDGfZ0",
        "outputId": "d589720c-18d7-42cb-f867-13678363b553"
      },
      "source": [
        "print(dataTesting)\n",
        "len(dataTesting)"
      ],
      "execution_count": 390,
      "outputs": [
        {
          "output_type": "stream",
          "text": [
            "[[118  72  19   0  46   0]\n",
            " [ 87  58  16  52  25   0]\n",
            " [180   0   0   0  41   1]\n",
            " [106  80   0   0  44   0]\n",
            " [ 95  60  18  58  22   0]\n",
            " [165  76  43 255  26   0]\n",
            " [117   0   0   0  44   0]\n",
            " [115  76   0   0  44   1]\n",
            " [152  78  34 171  33   1]\n",
            " [178  84   0   0  41   1]\n",
            " [130  70  13 105  22   0]\n",
            " [ 95  74  21  73  36   0]\n",
            " [  0  68  35   0  22   0]\n",
            " [122  86   0   0  33   0]\n",
            " [ 95  72   0   0  57   0]\n",
            " [126  88  36 108  49   0]\n",
            " [139  46  19  83  22   0]\n",
            " [116   0   0   0  23   0]\n",
            " [ 99  62  19  74  26   0]\n",
            " [  0  80  32   0  37   1]\n",
            " [ 92  80   0   0  29   0]\n",
            " [137  84   0   0  30   0]\n",
            " [ 61  82  28   0  46   0]\n",
            " [ 90  62  12  43  24   0]\n",
            " [ 90  78   0   0  21   0]\n",
            " [165  88   0   0  49   1]\n",
            " [125  50  40 167  28   1]\n",
            " [129   0  30   0  44   1]\n",
            " [ 88  74  40  54  48   0]\n",
            " [196  76  36 249  29   1]\n",
            " [189  64  33 325  29   1]\n",
            " [158  70   0   0  63   0]\n",
            " [103 108  37   0  65   0]\n",
            " [146  78   0   0  67   1]\n",
            " [147  74  25 293  30   0]\n",
            " [ 99  54  28  83  30   0]\n",
            " [124  72   0   0  29   1]\n",
            " [101  64  17   0  21   0]\n",
            " [ 81  86  16  66  22   0]\n",
            " [133 102  28 140  45   1]\n",
            " [173  82  48 465  25   1]\n",
            " [118  64  23  89  21   0]\n",
            " [ 84  64  22  66  21   0]\n",
            " [105  58  40  94  25   0]\n",
            " [122  52  43 158  28   0]\n",
            " [140  82  43 325  58   1]\n",
            " [ 98  82  15  84  22   0]\n",
            " [ 87  60  37  75  22   0]\n",
            " [156  75   0   0  32   1]\n",
            " [ 93 100  39  72  35   0]\n",
            " [158  64  13 387  24   0]\n",
            " [126  78  27  22  40   0]\n",
            " [129  62  36   0  38   1]\n",
            " [134  58  20 291  21   0]\n",
            " [102  74   0   0  32   0]\n",
            " [187  50  33 392  34   1]\n",
            " [173  78  39 185  31   1]\n",
            " [ 94  72  18   0  56   0]\n",
            " [108  60  46 178  24   0]\n",
            " [ 97  76  27   0  52   1]\n",
            " [ 83  86  19   0  34   0]\n",
            " [114  66  36 200  21   0]\n",
            " [149  68  29 127  42   1]\n",
            " [117  86  30 105  42   0]\n",
            " [111  94   0   0  45   0]\n",
            " [112  78  40   0  38   0]\n",
            " [116  78  29 180  25   0]\n",
            " [141  84  26   0  22   0]\n",
            " [175  88   0   0  22   0]\n",
            " [ 92  52   0   0  22   0]\n",
            " [130  78  23  79  34   1]\n",
            " [120  86   0   0  22   1]\n",
            " [174  88  37 120  24   1]\n",
            " [106  56  27 165  22   0]\n",
            " [105  75   0   0  53   0]\n",
            " [ 95  60  32   0  28   0]\n",
            " [126  86  27 120  21   0]\n",
            " [ 65  72  23   0  42   0]\n",
            " [ 99  60  17 160  21   0]\n",
            " [102  74   0   0  42   1]\n",
            " [120  80  37 150  48   1]\n",
            " [102  44  20  94  26   0]\n",
            " [109  58  18 116  22   0]\n",
            " [140  94   0   0  45   1]\n",
            " [153  88  37 140  39   0]\n",
            " [100  84  33 105  46   0]\n",
            " [147  94  41   0  27   1]\n",
            " [ 81  74  41  57  32   0]\n",
            " [187  70  22 200  36   1]\n",
            " [162  62   0   0  50   1]\n",
            " [136  70   0   0  22   1]\n",
            " [121  78  39  74  28   0]\n",
            " [108  62  24   0  25   0]\n",
            " [181  88  44 510  26   1]\n",
            " [154  78  32   0  45   1]\n",
            " [128  88  39 110  37   1]\n",
            " [137  90  41   0  39   0]\n",
            " [123  72   0   0  52   1]\n",
            " [106  76   0   0  26   0]\n",
            " [190  92   0   0  66   1]]\n"
          ],
          "name": "stdout"
        },
        {
          "output_type": "execute_result",
          "data": {
            "text/plain": [
              "100"
            ]
          },
          "metadata": {
            "tags": []
          },
          "execution_count": 390
        }
      ]
    },
    {
      "cell_type": "code",
      "metadata": {
        "id": "-1Ishvg6GjNT"
      },
      "source": [
        "inputTraining = dataTraining[:, 0:5]\n",
        "inputTesting = dataTesting[:, 0:5]\n",
        "labelTraining = dataTraining[:, 5]\n",
        "labelTesting = dataTesting[:, 5]"
      ],
      "execution_count": 391,
      "outputs": []
    },
    {
      "cell_type": "code",
      "metadata": {
        "id": "VPKD1uA7JBh1"
      },
      "source": [
        "model = tree.DecisionTreeClassifier()"
      ],
      "execution_count": 392,
      "outputs": []
    },
    {
      "cell_type": "code",
      "metadata": {
        "id": "ByirLXFxJDsr"
      },
      "source": [
        "model = model.fit(inputTraining, labelTraining)"
      ],
      "execution_count": 393,
      "outputs": []
    },
    {
      "cell_type": "code",
      "metadata": {
        "colab": {
          "base_uri": "https://localhost:8080/"
        },
        "id": "JLzraGxQJGU8",
        "outputId": "3e60ddf2-8320-46c8-ac1c-9112df69f014"
      },
      "source": [
        "hasilPrediksi = model.predict(inputTesting)\n",
        "print(\"label sebenarnya\", labelTesting)\n",
        "print(\"hasil prediksi\", hasilPrediksi)"
      ],
      "execution_count": 394,
      "outputs": [
        {
          "output_type": "stream",
          "text": [
            "label sebenarnya [0 0 1 0 0 0 0 1 1 1 0 0 0 0 0 0 0 0 0 1 0 0 0 0 0 1 1 1 0 1 1 0 0 1 0 0 1\n",
            " 0 0 1 1 0 0 0 0 1 0 0 1 0 0 0 1 0 0 1 1 0 0 1 0 0 1 0 0 0 0 0 0 0 1 1 1 0\n",
            " 0 0 0 0 0 1 1 0 0 1 0 0 1 0 1 1 1 0 0 1 1 1 0 1 0 1]\n",
            "hasil prediksi [0 0 1 0 0 1 0 1 1 1 0 0 0 0 0 0 1 0 0 1 0 0 0 0 0 1 0 1 0 1 1 0 1 0 1 0 0\n",
            " 0 0 1 1 0 0 0 0 1 0 0 1 0 1 0 1 0 0 1 1 0 0 0 0 0 0 0 0 1 0 0 1 0 0 1 1 0\n",
            " 0 1 0 0 0 0 1 0 0 0 1 0 0 0 0 0 0 0 0 1 1 0 1 0 0 1]\n"
          ],
          "name": "stdout"
        }
      ]
    },
    {
      "cell_type": "code",
      "metadata": {
        "colab": {
          "base_uri": "https://localhost:8080/"
        },
        "id": "UqdJUEbSG-zy",
        "outputId": "2a6074cd-c365-4c14-cf96-b71ba630ac8a"
      },
      "source": [
        "prediksiBenar = (hasilPrediksi == labelTesting).sum()\n",
        "prediksiSalah = (hasilPrediksi != labelTesting).sum()\n",
        "print(\"prediksi benar: \", prediksiBenar, \"data\")\n",
        "print(\"prediksi salah: \", prediksiSalah, \"data\")\n",
        "print(\"akurasi: \", prediksiBenar/(prediksiBenar+prediksiSalah)*100, \"%\")\n"
      ],
      "execution_count": 395,
      "outputs": [
        {
          "output_type": "stream",
          "text": [
            "prediksi benar:  76 data\n",
            "prediksi salah:  24 data\n",
            "akurasi:  76.0 %\n"
          ],
          "name": "stdout"
        }
      ]
    }
  ]
}