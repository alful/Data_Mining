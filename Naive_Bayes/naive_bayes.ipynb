{
  "nbformat": 4,
  "nbformat_minor": 0,
  "metadata": {
    "colab": {
      "name": "naive_bayes.ipynb",
      "provenance": [],
      "collapsed_sections": [],
      "authorship_tag": "ABX9TyPwIJzcHWXr77NHYicoPWV1",
      "include_colab_link": true
    },
    "kernelspec": {
      "name": "python3",
      "display_name": "Python 3"
    },
    "language_info": {
      "name": "python"
    }
  },
  "cells": [
    {
      "cell_type": "markdown",
      "metadata": {
        "id": "view-in-github",
        "colab_type": "text"
      },
      "source": [
        "<a href=\"https://colab.research.google.com/github/alful/Data_Mining/blob/main/Naive_Bayes/naive_bayes.ipynb\" target=\"_parent\"><img src=\"https://colab.research.google.com/assets/colab-badge.svg\" alt=\"Open In Colab\"/></a>"
      ]
    },
    {
      "cell_type": "code",
      "metadata": {
        "id": "oUVpVqNtEr19"
      },
      "source": [
        "import numpy as np\n",
        "import matplotlib.pyplot as plt\n",
        "import pandas as pd"
      ],
      "execution_count": 1,
      "outputs": []
    },
    {
      "cell_type": "code",
      "metadata": {
        "id": "pKVqpTuiEsjT",
        "colab": {
          "base_uri": "https://localhost:8080/"
        },
        "outputId": "779cda91-b8fe-40df-9933-9bde74066670"
      },
      "source": [
        "dataset = pd.read_csv('diabetes_zero.csv')\n",
        "x= dataset.iloc[:,[3,5]].values\n",
        "y=dataset.iloc[:,-1].values\n",
        "\n",
        "print(x)"
      ],
      "execution_count": 2,
      "outputs": [
        {
          "output_type": "stream",
          "text": [
            "[[35 50]\n",
            " [29 31]\n",
            " [ 0 32]\n",
            " ...\n",
            " [23 30]\n",
            " [ 0 47]\n",
            " [31 23]]\n"
          ],
          "name": "stdout"
        }
      ]
    },
    {
      "cell_type": "code",
      "metadata": {
        "id": "-IxLqwxhEuC0",
        "colab": {
          "base_uri": "https://localhost:8080/"
        },
        "outputId": "4cf8adb0-84a5-4ea9-d1bb-ecec3b19533d"
      },
      "source": [
        "print(y)"
      ],
      "execution_count": 3,
      "outputs": [
        {
          "output_type": "stream",
          "text": [
            "[1 0 1 0 1 0 1 0 1 1 0 1 0 1 1 1 1 1 0 1 0 0 1 1 1 1 1 0 0 0 0 1 0 0 0 0 0\n",
            " 1 1 1 0 0 0 1 0 1 0 0 1 0 0 0 0 1 0 0 1 0 0 0 0 1 0 0 1 0 1 0 0 0 1 0 1 0\n",
            " 0 0 0 0 1 0 0 0 0 0 1 0 0 0 1 0 0 0 0 1 0 0 0 0 0 1 1 0 0 0 0 0 0 0 0 1 1\n",
            " 1 0 0 1 1 1 0 0 0 1 0 0 0 1 1 0 0 1 1 1 1 1 0 0 0 0 0 0 0 0 0 0 1 0 0 0 0\n",
            " 0 0 0 0 1 0 1 1 0 0 0 1 0 0 0 0 1 1 0 0 0 0 1 1 0 0 0 1 0 1 0 1 0 0 0 0 0\n",
            " 1 1 1 1 1 0 0 1 1 0 1 0 1 1 1 0 0 0 0 0 0 1 1 0 1 0 0 0 1 1 1 1 0 1 1 1 1\n",
            " 0 0 0 0 0 1 0 0 1 1 0 0 0 1 1 1 1 0 0 0 1 1 0 1 0 0 0 0 0 0 0 0 1 1 0 0 0\n",
            " 1 0 1 0 0 1 0 1 0 0 1 1 0 0 0 0 0 1 0 0 0 1 0 0 1 1 0 0 1 0 0 0 1 1 1 0 0\n",
            " 1 0 1 0 1 1 0 1 0 0 1 0 1 1 0 0 1 0 1 0 0 1 0 1 0 1 1 1 0 0 1 0 1 0 0 0 1\n",
            " 0 0 0 0 1 1 1 0 0 0 0 0 0 0 0 0 1 0 0 0 0 0 1 1 1 0 1 1 0 0 1 0 0 1 0 0 1\n",
            " 1 0 0 0 0 1 0 0 1 0 0 0 0 0 0 0 1 1 1 0 0 1 0 0 1 0 0 1 0 1 1 0 1 0 1 0 1\n",
            " 0 1 1 0 0 0 0 1 1 0 1 0 1 0 0 0 0 1 1 0 1 0 1 0 0 0 0 0 1 0 0 0 0 1 0 0 1\n",
            " 1 1 0 0 1 0 0 1 0 0 0 1 0 0 1 0 0 0 0 0 0 0 0 0 1 0 0 0 0 0 0 0 1 0 0 0 1\n",
            " 0 0 0 1 1 0 0 0 0 0 0 0 1 0 0 0 0 1 0 0 0 1 0 0 0 1 0 0 0 1 0 0 0 0 1 1 0\n",
            " 0 0 0 0 0 1 0 0 0 0 0 0 0 0 0 0 0 1 0 0 0 1 1 1 1 0 0 1 1 0 0 0 0 0 0 0 0\n",
            " 0 0 0 0 0 1 1 0 0 0 0 0 0 0 1 0 0 0 0 0 0 0 1 0 1 1 0 0 0 1 0 1 0 1 0 1 0\n",
            " 1 0 0 1 0 0 1 0 0 0 0 1 1 0 1 0 0 0 0 1 1 0 1 0 0 0 1 1 0 0 0 0 0 0 0 0 0\n",
            " 0 1 0 0 0 0 1 0 0 1 0 0 0 1 0 0 0 1 1 1 0 0 0 0 0 0 1 0 0 0 1 0 1 1 1 1 0\n",
            " 1 1 0 0 0 0 0 0 0 1 1 0 1 0 0 1 0 1 0 0 0 0 0 1 0 1 0 1 0 1 1 0 0 0 0 1 1\n",
            " 0 0 0 1 0 1 1 0 0 1 0 0 1 1 0 0 1 0 0 1 0 0 0 0 0 0 0 1 1 1 0 0 0 0 0 0 1\n",
            " 1 0 0 1 0 0 1 0 1 1 1 0 0 1 1 1 0 1 0 1 0 1 0 0 0 0 1 0]\n"
          ],
          "name": "stdout"
        }
      ]
    },
    {
      "cell_type": "code",
      "metadata": {
        "id": "qqmWqceHExC-"
      },
      "source": [
        "from sklearn.model_selection import train_test_split\n",
        "x_train,x_test,y_train,y_test=train_test_split(x,y, test_size=0.25, random_state=0)"
      ],
      "execution_count": 4,
      "outputs": []
    },
    {
      "cell_type": "code",
      "metadata": {
        "id": "AvU-PY1WEy1A",
        "colab": {
          "base_uri": "https://localhost:8080/"
        },
        "outputId": "ea8f098f-a029-4823-b0c0-1f975713cdb8"
      },
      "source": [
        "print(x_train)"
      ],
      "execution_count": 5,
      "outputs": [
        {
          "output_type": "stream",
          "text": [
            "[[ 0 33]\n",
            " [36 23]\n",
            " [ 0 27]\n",
            " ...\n",
            " [22 21]\n",
            " [ 0 35]\n",
            " [ 0 69]]\n"
          ],
          "name": "stdout"
        }
      ]
    },
    {
      "cell_type": "code",
      "metadata": {
        "id": "-0ioQyoQE19n",
        "colab": {
          "base_uri": "https://localhost:8080/"
        },
        "outputId": "2661fcb7-2e9f-4826-f253-dad659a9ef41"
      },
      "source": [
        "print(x_test)"
      ],
      "execution_count": 6,
      "outputs": [
        {
          "output_type": "stream",
          "text": [
            "[[43 22]\n",
            " [30 23]\n",
            " [ 0 25]\n",
            " [19 51]\n",
            " [ 0 31]\n",
            " [18 24]\n",
            " [34 33]\n",
            " [27 52]\n",
            " [24 25]\n",
            " [32 55]\n",
            " [36 28]\n",
            " [27 53]\n",
            " [ 0 57]\n",
            " [22 25]\n",
            " [23 42]\n",
            " [20 32]\n",
            " [42 36]\n",
            " [10 21]\n",
            " [31 63]\n",
            " [28 30]\n",
            " [32 37]\n",
            " [ 0 21]\n",
            " [23 25]\n",
            " [28 46]\n",
            " [15 22]\n",
            " [32 21]\n",
            " [ 0 27]\n",
            " [37 39]\n",
            " [22 24]\n",
            " [ 0 30]\n",
            " [26 51]\n",
            " [46 21]\n",
            " [17 27]\n",
            " [43 28]\n",
            " [13 24]\n",
            " [ 0 41]\n",
            " [35 42]\n",
            " [19 21]\n",
            " [47 25]\n",
            " [25 26]\n",
            " [18 23]\n",
            " [ 0 21]\n",
            " [19 32]\n",
            " [31 25]\n",
            " [45 53]\n",
            " [23 21]\n",
            " [32 21]\n",
            " [29 28]\n",
            " [44 26]\n",
            " [ 0 27]\n",
            " [ 0 36]\n",
            " [26 22]\n",
            " [40 38]\n",
            " [41 39]\n",
            " [32 25]\n",
            " [20 22]\n",
            " [29 31]\n",
            " [ 0 28]\n",
            " [ 0 23]\n",
            " [ 0 30]\n",
            " [46 43]\n",
            " [25 30]\n",
            " [ 0 21]\n",
            " [ 0 25]\n",
            " [ 0 29]\n",
            " [ 0 39]\n",
            " [ 0 49]\n",
            " [ 0 40]\n",
            " [ 0 42]\n",
            " [25 38]\n",
            " [ 0 21]\n",
            " [ 0 37]\n",
            " [32 25]\n",
            " [ 0 45]\n",
            " [ 0 26]\n",
            " [ 0 30]\n",
            " [23 47]\n",
            " [32 39]\n",
            " [19 34]\n",
            " [40 30]\n",
            " [ 0 42]\n",
            " [50 24]\n",
            " [29 27]\n",
            " [19 21]\n",
            " [32 28]\n",
            " [ 0 29]\n",
            " [ 0 22]\n",
            " [38 33]\n",
            " [21 51]\n",
            " [27 21]\n",
            " [36 30]\n",
            " [ 0 27]\n",
            " [10 25]\n",
            " [11 22]\n",
            " [43 50]\n",
            " [31 22]\n",
            " [32 32]\n",
            " [39 27]\n",
            " [47 56]\n",
            " [ 0 46]\n",
            " [34 27]\n",
            " [15 21]\n",
            " [ 0 30]\n",
            " [13 25]\n",
            " [42 24]\n",
            " [ 0 33]\n",
            " [27 21]\n",
            " [38 22]\n",
            " [11 30]\n",
            " [ 0 32]\n",
            " [26 22]\n",
            " [32 36]\n",
            " [ 0 41]\n",
            " [41 33]\n",
            " [33 22]\n",
            " [ 0 47]\n",
            " [10 22]\n",
            " [16 24]\n",
            " [19 23]\n",
            " [37 48]\n",
            " [40 38]\n",
            " [37 65]\n",
            " [39 28]\n",
            " [17 62]\n",
            " [22 21]\n",
            " [ 0 25]\n",
            " [11 28]\n",
            " [29 35]\n",
            " [ 0 62]\n",
            " [ 0 22]\n",
            " [35 26]\n",
            " [ 0 24]\n",
            " [22 25]\n",
            " [49 28]\n",
            " [25 41]\n",
            " [37 46]\n",
            " [19 29]\n",
            " [32 31]\n",
            " [ 0 27]\n",
            " [ 0 27]\n",
            " [16 25]\n",
            " [29 37]\n",
            " [ 0 21]\n",
            " [ 0 41]\n",
            " [ 0 42]\n",
            " [10 21]\n",
            " [21 30]\n",
            " [30 41]\n",
            " [21 22]\n",
            " [45 29]\n",
            " [22 28]\n",
            " [ 0 22]\n",
            " [15 24]\n",
            " [30 24]\n",
            " [29 54]\n",
            " [23 22]\n",
            " [33 23]\n",
            " [21 23]\n",
            " [ 0 38]\n",
            " [ 0 40]\n",
            " [23 47]\n",
            " [ 0 59]\n",
            " [18 22]\n",
            " [18 22]\n",
            " [ 0 37]\n",
            " [ 0 24]\n",
            " [ 0 41]\n",
            " [ 0 23]\n",
            " [ 0 24]\n",
            " [ 0 46]\n",
            " [19 21]\n",
            " [40 39]\n",
            " [ 0 31]\n",
            " [ 0 42]\n",
            " [15 63]\n",
            " [32 22]\n",
            " [ 0 57]\n",
            " [41 35]\n",
            " [20 27]\n",
            " [24 21]\n",
            " [ 0 36]\n",
            " [ 0 44]\n",
            " [28 24]\n",
            " [39 25]\n",
            " [ 0 22]\n",
            " [ 0 36]\n",
            " [ 0 26]\n",
            " [ 0 29]\n",
            " [33 25]\n",
            " [ 8 21]\n",
            " [ 0 55]\n",
            " [30 37]]\n"
          ],
          "name": "stdout"
        }
      ]
    },
    {
      "cell_type": "code",
      "metadata": {
        "id": "OVSTr1DgE37P",
        "colab": {
          "base_uri": "https://localhost:8080/"
        },
        "outputId": "c060ebd4-a54a-4243-86f1-e99087bdcdb0"
      },
      "source": [
        "print (y_train)"
      ],
      "execution_count": 7,
      "outputs": [
        {
          "output_type": "stream",
          "text": [
            "[0 0 0 1 1 0 0 0 0 0 0 0 1 0 0 0 1 0 1 0 0 0 0 0 1 1 0 0 1 0 1 1 0 0 1 1 0\n",
            " 0 0 1 0 0 1 1 0 1 0 1 0 1 0 1 0 1 0 0 0 0 0 1 0 1 0 1 0 0 0 0 0 0 0 0 1 0\n",
            " 1 1 1 1 0 0 0 0 1 1 0 1 0 0 1 1 0 0 0 0 0 0 0 1 1 0 0 0 0 1 1 0 0 0 0 1 0\n",
            " 0 1 1 0 1 1 0 0 0 0 0 0 0 0 1 0 1 0 0 0 1 0 0 0 0 0 1 1 1 1 0 0 0 0 0 1 0\n",
            " 0 0 0 1 1 0 0 0 1 1 1 1 0 1 0 1 1 0 0 0 1 0 0 0 1 0 1 1 0 1 1 0 0 0 0 1 1\n",
            " 0 0 1 1 0 0 0 0 0 1 0 1 0 0 0 1 0 1 0 1 0 1 1 1 1 0 1 1 0 0 1 1 0 0 1 1 0\n",
            " 0 0 1 1 0 0 1 0 1 0 0 1 0 1 0 0 0 1 0 0 0 0 0 1 0 1 0 0 1 0 0 1 0 0 0 0 0\n",
            " 0 0 0 0 1 1 0 1 0 1 1 1 0 1 0 0 1 1 0 0 0 1 0 0 1 0 1 0 0 0 0 1 0 0 0 1 1\n",
            " 0 1 0 1 1 0 1 0 1 0 0 0 1 0 1 0 1 0 0 1 1 0 0 0 0 1 0 0 1 0 1 1 0 0 1 1 0\n",
            " 0 0 0 1 0 0 0 0 1 0 1 0 0 0 0 1 0 0 0 1 0 0 0 1 1 0 0 0 0 0 1 0 0 1 0 1 1\n",
            " 0 1 0 0 0 0 1 1 0 0 0 1 0 0 0 0 1 0 1 0 0 0 1 0 1 1 1 1 0 1 0 0 0 0 0 1 0\n",
            " 1 0 1 0 0 0 1 1 0 0 1 1 0 1 0 0 1 0 0 1 0 0 0 0 0 1 1 1 1 0 0 1 1 0 0 0 1\n",
            " 0 0 0 1 0 0 0 0 0 0 1 1 0 0 0 0 0 0 1 0 0 0 0 0 0 1 1 1 0 1 0 0 0 0 0 0 1\n",
            " 1 0 1 1 0 0 1 0 0 0 1 0 1 0 1 0 1 0 0 0 0 1 0 0 1 0 0 0 0 0 1 0 1 0 0 0 0\n",
            " 0 1 0 0 0 0 1 0 1 0 0 0 1 1 0 0 0 0 0 0 0 0 0 0 0 1 1 1 1 0 1 1 1 0 0 1 0\n",
            " 0 0 0 0 1 0 0 0 1 0 1 0 0 1 1 0 0 1 0 0 0]\n"
          ],
          "name": "stdout"
        }
      ]
    },
    {
      "cell_type": "code",
      "metadata": {
        "id": "vcGxWblbE5fr",
        "colab": {
          "base_uri": "https://localhost:8080/"
        },
        "outputId": "484de7a1-cac6-4876-d74c-c16e8fe2d6b9"
      },
      "source": [
        "print(y_test)"
      ],
      "execution_count": 8,
      "outputs": [
        {
          "output_type": "stream",
          "text": [
            "[1 0 0 1 0 0 1 1 0 0 1 1 0 0 0 0 1 0 0 0 1 1 0 0 0 0 0 0 0 0 0 0 0 0 0 1 1\n",
            " 0 0 0 0 0 0 1 1 0 0 1 1 1 0 0 1 0 0 0 0 1 1 1 1 0 0 1 1 1 1 0 0 0 0 0 0 0\n",
            " 1 0 0 0 0 0 0 0 0 0 0 0 1 0 1 0 0 0 0 0 0 0 1 0 1 1 0 0 0 0 0 1 0 0 0 1 0\n",
            " 1 1 1 1 1 0 0 0 1 0 0 0 0 0 0 0 1 0 0 0 0 0 1 0 1 0 1 1 0 0 0 0 0 1 0 0 0\n",
            " 0 1 0 1 0 0 1 0 0 0 1 1 1 1 0 0 0 1 0 0 0 0 0 0 1 1 0 0 0 0 0 0 1 1 0 1 1\n",
            " 0 1 1 1 0 0 0]\n"
          ],
          "name": "stdout"
        }
      ]
    },
    {
      "cell_type": "code",
      "metadata": {
        "id": "v0-RsbjTE7SO"
      },
      "source": [
        "from sklearn.preprocessing import StandardScaler\n",
        "sc= StandardScaler()\n",
        "x_train= sc.fit_transform(x_train)\n",
        "x_test= sc.transform(x_test)"
      ],
      "execution_count": 9,
      "outputs": []
    },
    {
      "cell_type": "code",
      "metadata": {
        "id": "7WepZdhkE8n-",
        "colab": {
          "base_uri": "https://localhost:8080/"
        },
        "outputId": "4f0d7736-4819-4bbe-e18a-adfad1d68744"
      },
      "source": [
        "print(x_train)"
      ],
      "execution_count": 10,
      "outputs": [
        {
          "output_type": "stream",
          "text": [
            "[[-1.31921491 -0.04863985]\n",
            " [ 0.9287299  -0.88246592]\n",
            " [-1.31921491 -0.5489355 ]\n",
            " ...\n",
            " [ 0.05452914 -1.04923114]\n",
            " [-1.31921491  0.11812536]\n",
            " [-1.31921491  2.953134  ]]\n"
          ],
          "name": "stdout"
        }
      ]
    },
    {
      "cell_type": "code",
      "metadata": {
        "id": "KVWIZsGOE-Tf",
        "colab": {
          "base_uri": "https://localhost:8080/"
        },
        "outputId": "da01e7a3-4632-4954-cf57-2f5123c01159"
      },
      "source": [
        "print(x_test)"
      ],
      "execution_count": 11,
      "outputs": [
        {
          "output_type": "stream",
          "text": [
            "[[ 1.36583027 -0.96584853]\n",
            " [ 0.55407243 -0.88246592]\n",
            " [-1.31921491 -0.71570071]\n",
            " [-0.13279959  1.45224707]\n",
            " [-1.31921491 -0.21540507]\n",
            " [-0.19524251 -0.79908332]\n",
            " [ 0.80384407 -0.04863985]\n",
            " [ 0.3667437   1.53562968]\n",
            " [ 0.17941496 -0.71570071]\n",
            " [ 0.67895825  1.7857775 ]\n",
            " [ 0.9287299  -0.46555289]\n",
            " [ 0.3667437   1.61901229]\n",
            " [-1.31921491  1.95254271]\n",
            " [ 0.05452914 -0.71570071]\n",
            " [ 0.11697205  0.70180361]\n",
            " [-0.07035668 -0.13202246]\n",
            " [ 1.30338736  0.20150797]\n",
            " [-0.69478579 -1.04923114]\n",
            " [ 0.61651534  2.45283836]\n",
            " [ 0.42918661 -0.29878768]\n",
            " [ 0.67895825  0.28489057]\n",
            " [-1.31921491 -1.04923114]\n",
            " [ 0.11697205 -0.71570071]\n",
            " [ 0.42918661  1.03533404]\n",
            " [-0.38257124 -0.96584853]\n",
            " [ 0.67895825 -1.04923114]\n",
            " [-1.31921491 -0.5489355 ]\n",
            " [ 0.99117281  0.45165579]\n",
            " [ 0.05452914 -0.79908332]\n",
            " [-1.31921491 -0.29878768]\n",
            " [ 0.30430078  1.45224707]\n",
            " [ 1.55315901 -1.04923114]\n",
            " [-0.25768542 -0.5489355 ]\n",
            " [ 1.36583027 -0.46555289]\n",
            " [-0.50745706 -0.79908332]\n",
            " [-1.31921491  0.618421  ]\n",
            " [ 0.86628699  0.70180361]\n",
            " [-0.13279959 -1.04923114]\n",
            " [ 1.61560192 -0.71570071]\n",
            " [ 0.24185787 -0.6323181 ]\n",
            " [-0.19524251 -0.88246592]\n",
            " [-1.31921491 -1.04923114]\n",
            " [-0.13279959 -0.13202246]\n",
            " [ 0.61651534 -0.71570071]\n",
            " [ 1.4907161   1.61901229]\n",
            " [ 0.11697205 -1.04923114]\n",
            " [ 0.67895825 -1.04923114]\n",
            " [ 0.49162952 -0.46555289]\n",
            " [ 1.42827319 -0.6323181 ]\n",
            " [-1.31921491 -0.5489355 ]\n",
            " [-1.31921491  0.20150797]\n",
            " [ 0.30430078 -0.96584853]\n",
            " [ 1.17850154  0.36827318]\n",
            " [ 1.24094445  0.45165579]\n",
            " [ 0.67895825 -0.71570071]\n",
            " [-0.07035668 -0.96584853]\n",
            " [ 0.49162952 -0.21540507]\n",
            " [-1.31921491 -0.46555289]\n",
            " [-1.31921491 -0.88246592]\n",
            " [-1.31921491 -0.29878768]\n",
            " [ 1.55315901  0.78518622]\n",
            " [ 0.24185787 -0.29878768]\n",
            " [-1.31921491 -1.04923114]\n",
            " [-1.31921491 -0.71570071]\n",
            " [-1.31921491 -0.38217028]\n",
            " [-1.31921491  0.45165579]\n",
            " [-1.31921491  1.28548186]\n",
            " [-1.31921491  0.53503839]\n",
            " [-1.31921491  0.70180361]\n",
            " [ 0.24185787  0.36827318]\n",
            " [-1.31921491 -1.04923114]\n",
            " [-1.31921491  0.28489057]\n",
            " [ 0.67895825 -0.71570071]\n",
            " [-1.31921491  0.95195143]\n",
            " [-1.31921491 -0.6323181 ]\n",
            " [-1.31921491 -0.29878768]\n",
            " [ 0.11697205  1.11871664]\n",
            " [ 0.67895825  0.45165579]\n",
            " [-0.13279959  0.03474275]\n",
            " [ 1.17850154 -0.29878768]\n",
            " [-1.31921491  0.70180361]\n",
            " [ 1.80293065 -0.79908332]\n",
            " [ 0.49162952 -0.5489355 ]\n",
            " [-0.13279959 -1.04923114]\n",
            " [ 0.67895825 -0.46555289]\n",
            " [-1.31921491 -0.38217028]\n",
            " [-1.31921491 -0.96584853]\n",
            " [ 1.05361572 -0.04863985]\n",
            " [-0.00791377  1.45224707]\n",
            " [ 0.3667437  -1.04923114]\n",
            " [ 0.9287299  -0.29878768]\n",
            " [-1.31921491 -0.5489355 ]\n",
            " [-0.69478579 -0.71570071]\n",
            " [-0.63234288 -0.96584853]\n",
            " [ 1.36583027  1.36886446]\n",
            " [ 0.61651534 -0.96584853]\n",
            " [ 0.67895825 -0.13202246]\n",
            " [ 1.11605863 -0.5489355 ]\n",
            " [ 1.61560192  1.86916011]\n",
            " [-1.31921491  1.03533404]\n",
            " [ 0.80384407 -0.5489355 ]\n",
            " [-0.38257124 -1.04923114]\n",
            " [-1.31921491 -0.29878768]\n",
            " [-0.50745706 -0.71570071]\n",
            " [ 1.30338736 -0.79908332]\n",
            " [-1.31921491 -0.04863985]\n",
            " [ 0.3667437  -1.04923114]\n",
            " [ 1.05361572 -0.96584853]\n",
            " [-0.63234288 -0.29878768]\n",
            " [-1.31921491 -0.13202246]\n",
            " [ 0.30430078 -0.96584853]\n",
            " [ 0.67895825  0.20150797]\n",
            " [-1.31921491  0.618421  ]\n",
            " [ 1.24094445 -0.04863985]\n",
            " [ 0.74140116 -0.96584853]\n",
            " [-1.31921491  1.11871664]\n",
            " [-0.69478579 -0.96584853]\n",
            " [-0.32012833 -0.79908332]\n",
            " [-0.13279959 -0.88246592]\n",
            " [ 0.99117281  1.20209925]\n",
            " [ 1.17850154  0.36827318]\n",
            " [ 0.99117281  2.61960357]\n",
            " [ 1.11605863 -0.46555289]\n",
            " [-0.25768542  2.36945575]\n",
            " [ 0.05452914 -1.04923114]\n",
            " [-1.31921491 -0.71570071]\n",
            " [-0.63234288 -0.46555289]\n",
            " [ 0.49162952  0.11812536]\n",
            " [-1.31921491  2.36945575]\n",
            " [-1.31921491 -0.96584853]\n",
            " [ 0.86628699 -0.6323181 ]\n",
            " [-1.31921491 -0.79908332]\n",
            " [ 0.05452914 -0.71570071]\n",
            " [ 1.74048774 -0.46555289]\n",
            " [ 0.24185787  0.618421  ]\n",
            " [ 0.99117281  1.03533404]\n",
            " [-0.13279959 -0.38217028]\n",
            " [ 0.67895825 -0.21540507]\n",
            " [-1.31921491 -0.5489355 ]\n",
            " [-1.31921491 -0.5489355 ]\n",
            " [-0.32012833 -0.71570071]\n",
            " [ 0.49162952  0.28489057]\n",
            " [-1.31921491 -1.04923114]\n",
            " [-1.31921491  0.618421  ]\n",
            " [-1.31921491  0.70180361]\n",
            " [-0.69478579 -1.04923114]\n",
            " [-0.00791377 -0.29878768]\n",
            " [ 0.55407243  0.618421  ]\n",
            " [-0.00791377 -0.96584853]\n",
            " [ 1.4907161  -0.38217028]\n",
            " [ 0.05452914 -0.46555289]\n",
            " [-1.31921491 -0.96584853]\n",
            " [-0.38257124 -0.79908332]\n",
            " [ 0.55407243 -0.79908332]\n",
            " [ 0.49162952  1.70239489]\n",
            " [ 0.11697205 -0.96584853]\n",
            " [ 0.74140116 -0.88246592]\n",
            " [-0.00791377 -0.88246592]\n",
            " [-1.31921491  0.36827318]\n",
            " [-1.31921491  0.53503839]\n",
            " [ 0.11697205  1.11871664]\n",
            " [-1.31921491  2.11930793]\n",
            " [-0.19524251 -0.96584853]\n",
            " [-0.19524251 -0.96584853]\n",
            " [-1.31921491  0.28489057]\n",
            " [-1.31921491 -0.79908332]\n",
            " [-1.31921491  0.618421  ]\n",
            " [-1.31921491 -0.88246592]\n",
            " [-1.31921491 -0.79908332]\n",
            " [-1.31921491  1.03533404]\n",
            " [-0.13279959 -1.04923114]\n",
            " [ 1.17850154  0.45165579]\n",
            " [-1.31921491 -0.21540507]\n",
            " [-1.31921491  0.70180361]\n",
            " [-0.38257124  2.45283836]\n",
            " [ 0.67895825 -0.96584853]\n",
            " [-1.31921491  1.95254271]\n",
            " [ 1.24094445  0.11812536]\n",
            " [-0.07035668 -0.5489355 ]\n",
            " [ 0.17941496 -1.04923114]\n",
            " [-1.31921491  0.20150797]\n",
            " [-1.31921491  0.86856882]\n",
            " [ 0.42918661 -0.79908332]\n",
            " [ 1.11605863 -0.71570071]\n",
            " [-1.31921491 -0.96584853]\n",
            " [-1.31921491  0.20150797]\n",
            " [-1.31921491 -0.6323181 ]\n",
            " [-1.31921491 -0.38217028]\n",
            " [ 0.74140116 -0.71570071]\n",
            " [-0.81967162 -1.04923114]\n",
            " [-1.31921491  1.7857775 ]\n",
            " [ 0.55407243  0.28489057]]\n"
          ],
          "name": "stdout"
        }
      ]
    },
    {
      "cell_type": "code",
      "metadata": {
        "id": "zsq8GhjzFAdm",
        "colab": {
          "base_uri": "https://localhost:8080/"
        },
        "outputId": "c90c1efc-af6d-4404-bdcd-aafd33d8299d"
      },
      "source": [
        "from sklearn.naive_bayes import GaussianNB\n",
        "classifier= GaussianNB()\n",
        "classifier.fit(x_train,y_train)\n"
      ],
      "execution_count": 12,
      "outputs": [
        {
          "output_type": "execute_result",
          "data": {
            "text/plain": [
              "GaussianNB(priors=None, var_smoothing=1e-09)"
            ]
          },
          "metadata": {
            "tags": []
          },
          "execution_count": 12
        }
      ]
    },
    {
      "cell_type": "code",
      "metadata": {
        "id": "E25B3xmRFCU5"
      },
      "source": [
        "y_pred=classifier.predict(x_test)"
      ],
      "execution_count": 13,
      "outputs": []
    },
    {
      "cell_type": "code",
      "metadata": {
        "id": "40SwV92wFFO5",
        "colab": {
          "base_uri": "https://localhost:8080/"
        },
        "outputId": "9899fa7e-40ed-479e-ffb9-07aa708de8fc"
      },
      "source": [
        "from sklearn.metrics import confusion_matrix\n",
        "cm= confusion_matrix(y_test,y_pred)\n",
        "print(cm)"
      ],
      "execution_count": 14,
      "outputs": [
        {
          "output_type": "stream",
          "text": [
            "[[119  11]\n",
            " [ 53   9]]\n"
          ],
          "name": "stdout"
        }
      ]
    },
    {
      "cell_type": "code",
      "metadata": {
        "id": "QeywqH7dFHL-",
        "colab": {
          "base_uri": "https://localhost:8080/",
          "height": 349
        },
        "outputId": "b68e562f-dc2e-4f9e-e8f9-738fa04bdcaf"
      },
      "source": [
        "from matplotlib.colors import ListedColormap\n",
        "x_set,y_set= x_train,y_train\n",
        "x1,x2= np.meshgrid(np.arange(start= x_set[:,0].min()-1, stop =x_set[:,0].max()+1, step=0.01),\n",
        "                   np.arange(start= x_set[:,0].min()-1, stop =x_set[:,0].max()+1, step=0.01))\n",
        "plt.contourf(x1,x2,classifier.predict(np.array([x1.ravel(),x2.ravel()]).T).reshape(x1.shape),\n",
        "             alpha=0.75, cmap= ListedColormap(('red','green')))\n",
        "plt.xlim(x1.min(),x1.max())\n",
        "plt.ylim(x2.min(),x2.max())\n",
        "for i,j in enumerate(np.unique(y_set)):\n",
        "  plt.scatter(x_set[y_set==j, 0], x_set[y_set==j,1],\n",
        "              c=ListedColormap(('blue','green'))(i),label=j)\n",
        "plt.title('Naive Bayes (Training Set)')\n",
        "plt.xlabel('SkinThickness')\n",
        "plt.ylabel('Age')\n",
        "plt.legend()\n",
        "plt.show()\n"
      ],
      "execution_count": 15,
      "outputs": [
        {
          "output_type": "stream",
          "text": [
            "*c* argument looks like a single numeric RGB or RGBA sequence, which should be avoided as value-mapping will have precedence in case its length matches with *x* & *y*.  Please use the *color* keyword-argument or provide a 2-D array with a single row if you intend to specify the same RGB or RGBA value for all points.\n",
            "*c* argument looks like a single numeric RGB or RGBA sequence, which should be avoided as value-mapping will have precedence in case its length matches with *x* & *y*.  Please use the *color* keyword-argument or provide a 2-D array with a single row if you intend to specify the same RGB or RGBA value for all points.\n"
          ],
          "name": "stderr"
        },
        {
          "output_type": "display_data",
          "data": {
            "image/png": "[encoded data removed]",
            "text/plain": [
              "<Figure size 432x288 with 1 Axes>"
            ]
          },
          "metadata": {
            "tags": [],
            "needs_background": "light"
          }
        }
      ]
    },
    {
      "cell_type": "code",
      "metadata": {
        "id": "I9OJYtMZFJSy",
        "colab": {
          "base_uri": "https://localhost:8080/",
          "height": 349
        },
        "outputId": "dc25176a-e915-4f8a-c9c6-7eb2049dec70"
      },
      "source": [
        "from matplotlib.colors import ListedColormap\n",
        "x_set,y_set= x_test,y_test\n",
        "x1,x2= np.meshgrid(np.arange(start= x_set[:,0].min()-1, stop =x_set[:,0].max()+1, step=0.01),\n",
        "                   np.arange(start= x_set[:,0].min()-1, stop =x_set[:,0].max()+1, step=0.01))\n",
        "plt.contourf(x1,x2,classifier.predict(np.array([x1.ravel(),x2.ravel()]).T).reshape(x1.shape),\n",
        "             alpha=0.75, cmap= ListedColormap(('red','green')))\n",
        "plt.xlim(x1.min(),x1.max())\n",
        "plt.ylim(x2.min(),x2.max())\n",
        "for i,j in enumerate(np.unique(y_set)):\n",
        "  plt.scatter(x_set[y_set==j, 0], x_set[y_set==j,1],\n",
        "              c=ListedColormap(('blue','green'))(i),label=j)\n",
        "plt.title('Naive Bayes (Test Set)')\n",
        "plt.xlabel('SkinThickness')\n",
        "plt.ylabel('Age')\n",
        "plt.legend()\n",
        "plt.show()\n"
      ],
      "execution_count": 16,
      "outputs": [
        {
          "output_type": "stream",
          "text": [
            "*c* argument looks like a single numeric RGB or RGBA sequence, which should be avoided as value-mapping will have precedence in case its length matches with *x* & *y*.  Please use the *color* keyword-argument or provide a 2-D array with a single row if you intend to specify the same RGB or RGBA value for all points.\n",
            "*c* argument looks like a single numeric RGB or RGBA sequence, which should be avoided as value-mapping will have precedence in case its length matches with *x* & *y*.  Please use the *color* keyword-argument or provide a 2-D array with a single row if you intend to specify the same RGB or RGBA value for all points.\n"
          ],
          "name": "stderr"
        },
        {
          "output_type": "display_data",
          "data": {
            "image/png": "[encoded data removed]",
            "text/plain": [
              "<Figure size 432x288 with 1 Axes>"
            ]
          },
          "metadata": {
            "tags": [],
            "needs_background": "light"
          }
        }
      ]
    }
  ]
}